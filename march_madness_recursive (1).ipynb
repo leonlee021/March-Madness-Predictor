{
 "cells": [
  {
   "cell_type": "code",
   "execution_count": 1,
   "metadata": {},
   "outputs": [],
   "source": [
    "import random \n",
    "def recursive_tournament(teams):\n",
    "    index=0 \n",
    "    winner_list=[] \n",
    "    if(int(len(teams))==1):\n",
    "        return teams\n",
    "    for i in teams:\n",
    "        index=index+1\n",
    "        if index%2==0:        \n",
    "            continue        \n",
    "        first_team=random.normalvariate (teams[index-1][1], teams[index-1][2])\n",
    "        second_team=random.normalvariate (teams[index][1], teams[index][2])\n",
    "        if(first_team>second_team):\n",
    "            winner_list.append(teams[index-1])\n",
    "            teams[index][3]=teams[index][3]+1\n",
    "        else:\n",
    "            winner_list.append(teams[index])\n",
    "            teams[index-1][3]=teams[index-1][3]+1\n",
    "    return(recursive_tournament(winner_list))"
   ]
  },
  {
   "cell_type": "code",
   "execution_count": 2,
   "metadata": {},
   "outputs": [],
   "source": [
    "a = [['Duke', 16.7, 17.4, 0,0,0], ['North Dakota', 0.266, 17.6, 0,0,0], ['VCU', 10.6, 12.3, 0,0,0], ['UCF', 10.7, 11.8, 0,0,0], ['Mississippi State', 7.76, 12.6, 0,0,0], ['Liberty', 13.3, 16.6, 0,0,0], ['Virginia Tech', 3.13, 18.8, 0,0,0],\n",
    "     ['Saint Louis', 2.48, 11.5, 0,0,0], ['Maryland', 6.46, 12.3, 0,0,0], ['Belmont', 14.7, 17.7, 0,0,0],['LSU', 8.61, 10.8, 0,0,0], ['Yale', 8.26, 15.7, 0,0,0],['Louisville', 6.87, 16.0, 0,0,0], ['Minnesota', 2.68, 13.2,0,0,0],['Michigan State',13.7, 14.7, 0,0,0],\n",
    "     ['Bradley', 1.81, 12.0, 0,0,0],['Gonzaga', 25.1, 17.5,0,0,0],['Fairleigh Dickinson',2.57, 15.5,0,0,0],['Syracuse',4.87,15.8,0,0,0],['Baylor',4.68,14.1,0,0,0],['Marquette',8.16,14.6,0,0,0],['Murray State',16.1,17.3,0,0,0],['Florida State',7.77,11.2,0,0,0],\n",
    "     ['Vermont',10.2,17.2,0,0,0],['Buffalo',14.1,13.0,0,0,0],['Arizona State',4.47,13.2,0,0,0],['Texas Tech',14.7,16.7,0,0,0],['Northern Kentucky',10.3,15.8,0,0,0],['Nevada',11.3,17.5,0,0,0],['Florida',4.61,14.0,0,0,0],['Michigan',11.6,11.9,0,0,0],['Montana',8.65,15.6,0,0,0],\n",
    "     ['Virginia',17.5,14.0,0,0,0],['Gardner-Webb',7.84,22.7,0,0,0],['Mississippi',5.74,12.9,0,0,0],['Oklahoma',3.06,14.3,0,0,0],['Wisconsin',7.94,12.8,0,0,0],['Oregon',6.35,15.0,0,0,0],['Kansas State',7.35,12.7,0,0,0],['UC Irvine',8.69,13.7,0,0,0],['Villanova',7.81,13.4,0,0,0],\n",
    "     ['Saint Marys',8.29,17.4,0,0,0],['Purdue',9.23,15.0,0,0,0],['Old Dominion',5.35,10.7,0,0,0],['Cincinnati',9.68,14.4,0,0,0],['Iowa',4.97,15.5,0,0,0],['Tennessee',14.6,14.2,0,0,0],['Colgate',5.90,17.6,0,0,0],['North Carolina',13.6,16.1,0,0,0],['Iona',0.38,12.2,0,0,0],\n",
    "     ['Utah State',12.3,14.5,0,0,0],['Washington',7,10.9,0,0,0],['Auburn',11.6,19.0,0,0,0],['New Mexico',12.9,14.5,0,0,0],['Kansas',5.48,13.2,0,0,0],['Northeastern',4.8,12.4,0,0,0],['Iowa State',8.94,16.8,0,0,0],['Ohio State',4.29,16.2,0,0,0],['Houston',14.8,12.5,0,0,0],\n",
    "     ['Georgia State',3.35,14.4,0,0,0],['Wofford',17.5,20.1,0,0,0],['Seton Hall',2.12,12.2,0,0,0],['Kentucky',11.6,15.6,0,0,0],['Abilene Christian',10.1,17.2,0,0,0]]"
   ]
  },
  {
   "cell_type": "code",
   "execution_count": 3,
   "metadata": {},
   "outputs": [],
   "source": [
    "def init_stat(teams):\n",
    "    for i in teams:\n",
    "        i[3]=0\n",
    "        i[4]=0\n",
    "        i[5]=0"
   ]
  },
  {
   "cell_type": "code",
   "execution_count": 5,
   "metadata": {},
   "outputs": [],
   "source": [
    "def find_index(teams,univname):\n",
    "    index=0    \n",
    "    for i in teams:\n",
    "        if(i[0]==univname):\n",
    "            return(index)\n",
    "        index = index + 1\n",
    "    return(-1)"
   ]
  },
  {
   "cell_type": "code",
   "execution_count": 6,
   "metadata": {},
   "outputs": [],
   "source": [
    "init_stat(a)\n",
    "for i in range(0,100000):\n",
    "    teams = recursive_tournament(a)\n",
    "    winner = teams[0]\n",
    "    school_name = teams[0][0]\n",
    "    #print(winner)\n",
    "    #print(school_name)\n",
    "    a[find_index(a,school_name)][4]=a[find_index(a,school_name)][4]+1"
   ]
  },
  {
   "cell_type": "code",
   "execution_count": 7,
   "metadata": {},
   "outputs": [
    {
     "data": {
      "text/plain": [
       "[['Duke', 16.7, 17.4, 94894, 5106, 0],\n",
       " ['North Dakota', 0.266, 17.6, 99930, 70, 0],\n",
       " ['VCU', 10.6, 12.3, 98769, 1231, 0],\n",
       " ['UCF', 10.7, 11.8, 98705, 1295, 0],\n",
       " ['Mississippi State', 7.76, 12.6, 99379, 621, 0],\n",
       " ['Liberty', 13.3, 16.6, 97257, 2743, 0],\n",
       " ['Virginia Tech', 3.13, 18.8, 99721, 279, 0],\n",
       " ['Saint Louis', 2.48, 11.5, 99875, 125, 0],\n",
       " ['Maryland', 6.46, 12.3, 99616, 384, 0],\n",
       " ['Belmont', 14.7, 17.7, 96533, 3467, 0],\n",
       " ['LSU', 8.61, 10.8, 99289, 711, 0],\n",
       " ['Yale', 8.26, 15.7, 99312, 688, 0],\n",
       " ['Louisville', 6.87, 16.0, 99352, 648, 0],\n",
       " ['Minnesota', 2.68, 13.2, 99863, 137, 0],\n",
       " ['Michigan State', 13.7, 14.7, 96370, 3630, 0],\n",
       " ['Bradley', 1.81, 12.0, 99906, 94, 0],\n",
       " ['Gonzaga', 25.1, 17.5, 82325, 17675, 0],\n",
       " ['Fairleigh Dickinson', 2.57, 15.5, 99894, 106, 0],\n",
       " ['Syracuse', 4.87, 15.8, 99741, 259, 0],\n",
       " ['Baylor', 4.68, 14.1, 99778, 222, 0],\n",
       " ['Marquette', 8.16, 14.6, 99508, 492, 0],\n",
       " ['Murray State', 16.1, 17.3, 96571, 3429, 0],\n",
       " ['Florida State', 7.77, 11.2, 99587, 413, 0],\n",
       " ['Vermont', 10.2, 17.2, 99031, 969, 0],\n",
       " ['Buffalo', 14.1, 13.0, 97102, 2898, 0],\n",
       " ['Arizona State', 4.47, 13.2, 99847, 153, 0],\n",
       " ['Texas Tech', 14.7, 16.7, 97427, 2573, 0],\n",
       " ['Northern Kentucky', 10.3, 15.8, 99092, 908, 0],\n",
       " ['Nevada', 11.3, 17.5, 98420, 1580, 0],\n",
       " ['Florida', 4.61, 14.0, 99802, 198, 0],\n",
       " ['Michigan', 11.6, 11.9, 98508, 1492, 0],\n",
       " ['Montana', 8.65, 15.6, 99349, 651, 0],\n",
       " ['Virginia', 17.5, 14.0, 93179, 6821, 0],\n",
       " ['Gardner-Webb', 7.84, 22.7, 99161, 839, 0],\n",
       " ['Mississippi', 5.74, 12.9, 99534, 466, 0],\n",
       " ['Oklahoma', 3.06, 14.3, 99787, 213, 0],\n",
       " ['Wisconsin', 7.94, 12.8, 99198, 802, 0],\n",
       " ['Oregon', 6.35, 15.0, 99426, 574, 0],\n",
       " ['Kansas State', 7.35, 12.7, 99361, 639, 0],\n",
       " ['UC Irvine', 8.69, 13.7, 98948, 1052, 0],\n",
       " ['Villanova', 7.81, 13.4, 99225, 775, 0],\n",
       " ['Saint Marys', 8.29, 17.4, 99098, 902, 0],\n",
       " ['Purdue', 9.23, 15.0, 98749, 1251, 0],\n",
       " ['Old Dominion', 5.35, 10.7, 99671, 329, 0],\n",
       " ['Cincinnati', 9.68, 14.4, 98765, 1235, 0],\n",
       " ['Iowa', 4.97, 15.5, 99678, 322, 0],\n",
       " ['Tennessee', 14.6, 14.2, 95943, 4057, 0],\n",
       " ['Colgate', 5.9, 17.6, 99559, 441, 0],\n",
       " ['North Carolina', 13.6, 16.1, 96791, 3209, 0],\n",
       " ['Iona', 0.38, 12.2, 99959, 41, 0],\n",
       " ['Utah State', 12.3, 14.5, 97785, 2215, 0],\n",
       " ['Washington', 7, 10.9, 99551, 449, 0],\n",
       " ['Auburn', 11.6, 19.0, 98385, 1615, 0],\n",
       " ['New Mexico', 12.9, 14.5, 97639, 2361, 0],\n",
       " ['Kansas', 5.48, 13.2, 99657, 343, 0],\n",
       " ['Northeastern', 4.8, 12.4, 99715, 285, 0],\n",
       " ['Iowa State', 8.94, 16.8, 99026, 974, 0],\n",
       " ['Ohio State', 4.29, 16.2, 99714, 286, 0],\n",
       " ['Houston', 14.8, 12.5, 95830, 4170, 0],\n",
       " ['Georgia State', 3.35, 14.4, 99848, 152, 0],\n",
       " ['Wofford', 17.5, 20.1, 94723, 5277, 0],\n",
       " ['Seton Hall', 2.12, 12.2, 99919, 81, 0],\n",
       " ['Kentucky', 11.6, 15.6, 98478, 1522, 0],\n",
       " ['Abilene Christian', 10.1, 17.2, 98945, 1055, 0]]"
      ]
     },
     "execution_count": 7,
     "metadata": {},
     "output_type": "execute_result"
    }
   ],
   "source": [
    "a"
   ]
  },
  {
   "cell_type": "code",
   "execution_count": null,
   "metadata": {},
   "outputs": [],
   "source": []
  }
 ],
 "metadata": {
  "kernelspec": {
   "display_name": "Python 3",
   "language": "python",
   "name": "python3"
  },
  "language_info": {
   "codemirror_mode": {
    "name": "ipython",
    "version": 3
   },
   "file_extension": ".py",
   "mimetype": "text/x-python",
   "name": "python",
   "nbconvert_exporter": "python",
   "pygments_lexer": "ipython3",
   "version": "3.7.4"
  }
 },
 "nbformat": 4,
 "nbformat_minor": 2
}
